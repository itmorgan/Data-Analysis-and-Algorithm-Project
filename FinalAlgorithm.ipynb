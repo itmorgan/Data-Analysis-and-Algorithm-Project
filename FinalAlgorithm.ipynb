{
 "cells": [
  {
   "cell_type": "code",
   "execution_count": 62,
   "id": "338986fa",
   "metadata": {},
   "outputs": [],
   "source": [
    "import numpy as np\n",
    "import pandas as pd\n",
    "import matplotlib.pyplot as plt\n",
    "import seaborn as sb"
   ]
  },
  {
   "cell_type": "code",
   "execution_count": 63,
   "id": "795a3b84",
   "metadata": {},
   "outputs": [],
   "source": [
    "dataset = pd.read_csv(r\"Datasets/cleaned_data.csv\")"
   ]
  },
  {
   "cell_type": "code",
   "execution_count": 64,
   "id": "d0dc6b5f",
   "metadata": {},
   "outputs": [],
   "source": [
    "genres = pd.read_csv(r\"Datasets\\Genres\")"
   ]
  },
  {
   "cell_type": "code",
   "execution_count": 65,
   "id": "f121a60e",
   "metadata": {},
   "outputs": [],
   "source": [
    "def cap(word):\n",
    "    return word.capitalize()"
   ]
  },
  {
   "cell_type": "code",
   "execution_count": 66,
   "id": "2115660d",
   "metadata": {},
   "outputs": [],
   "source": [
    "def find_item(dataset, search_string):\n",
    "    for index, item in enumerate(dataset):\n",
    "        if str(item) == search_string:\n",
    "            return index\n",
    "    return None"
   ]
  },
  {
   "cell_type": "code",
   "execution_count": 67,
   "id": "7ca79cdc",
   "metadata": {},
   "outputs": [],
   "source": [
    "genres.rename(columns={genres.columns[1]: 'Genre Title'}, inplace=True)"
   ]
  },
  {
   "cell_type": "code",
   "execution_count": 68,
   "id": "8c04c311",
   "metadata": {},
   "outputs": [],
   "source": [
    "genres.set_index('Genre Title', inplace=True)"
   ]
  },
  {
   "cell_type": "code",
   "execution_count": 69,
   "id": "61099fd3",
   "metadata": {},
   "outputs": [],
   "source": [
    "seen_shows = list()"
   ]
  },
  {
   "cell_type": "code",
   "execution_count": 70,
   "id": "e540ad51",
   "metadata": {},
   "outputs": [
    {
     "name": "stdout",
     "output_type": "stream",
     "text": [
      "Hello! Thank you for using our algorithm! Below is the list of genres you can choose:\n"
     ]
    }
   ],
   "source": [
    "print(\"Hello! Thank you for using our algorithm! Below is the list of genres you can choose:\")"
   ]
  },
  {
   "cell_type": "code",
   "execution_count": 71,
   "id": "bbd42138",
   "metadata": {
    "scrolled": true
   },
   "outputs": [
    {
     "data": {
      "text/html": [
       "<div>\n",
       "<style scoped>\n",
       "    .dataframe tbody tr th:only-of-type {\n",
       "        vertical-align: middle;\n",
       "    }\n",
       "\n",
       "    .dataframe tbody tr th {\n",
       "        vertical-align: top;\n",
       "    }\n",
       "\n",
       "    .dataframe thead th {\n",
       "        text-align: right;\n",
       "    }\n",
       "</style>\n",
       "<table border=\"1\" class=\"dataframe\">\n",
       "  <thead>\n",
       "    <tr style=\"text-align: right;\">\n",
       "      <th></th>\n",
       "      <th>Unnamed: 0</th>\n",
       "    </tr>\n",
       "    <tr>\n",
       "      <th>Genre Title</th>\n",
       "      <th></th>\n",
       "    </tr>\n",
       "  </thead>\n",
       "  <tbody>\n",
       "    <tr>\n",
       "      <th>Null</th>\n",
       "      <td>0</td>\n",
       "    </tr>\n",
       "    <tr>\n",
       "      <th>Action</th>\n",
       "      <td>1</td>\n",
       "    </tr>\n",
       "    <tr>\n",
       "      <th>Military</th>\n",
       "      <td>2</td>\n",
       "    </tr>\n",
       "    <tr>\n",
       "      <th>Adventure</th>\n",
       "      <td>3</td>\n",
       "    </tr>\n",
       "    <tr>\n",
       "      <th>Comedy</th>\n",
       "      <td>4</td>\n",
       "    </tr>\n",
       "    <tr>\n",
       "      <th>Drama</th>\n",
       "      <td>5</td>\n",
       "    </tr>\n",
       "    <tr>\n",
       "      <th>Magic</th>\n",
       "      <td>6</td>\n",
       "    </tr>\n",
       "    <tr>\n",
       "      <th>Fantasy</th>\n",
       "      <td>7</td>\n",
       "    </tr>\n",
       "    <tr>\n",
       "      <th>Shounen</th>\n",
       "      <td>8</td>\n",
       "    </tr>\n",
       "    <tr>\n",
       "      <th>Thriller</th>\n",
       "      <td>9</td>\n",
       "    </tr>\n",
       "    <tr>\n",
       "      <th>Sci-Fi</th>\n",
       "      <td>10</td>\n",
       "    </tr>\n",
       "    <tr>\n",
       "      <th>Historical</th>\n",
       "      <td>11</td>\n",
       "    </tr>\n",
       "    <tr>\n",
       "      <th>Parody</th>\n",
       "      <td>12</td>\n",
       "    </tr>\n",
       "    <tr>\n",
       "      <th>Samurai</th>\n",
       "      <td>13</td>\n",
       "    </tr>\n",
       "    <tr>\n",
       "      <th>Super Power</th>\n",
       "      <td>14</td>\n",
       "    </tr>\n",
       "    <tr>\n",
       "      <th>Mystery</th>\n",
       "      <td>15</td>\n",
       "    </tr>\n",
       "    <tr>\n",
       "      <th>Game</th>\n",
       "      <td>16</td>\n",
       "    </tr>\n",
       "    <tr>\n",
       "      <th>Seinen</th>\n",
       "      <td>17</td>\n",
       "    </tr>\n",
       "    <tr>\n",
       "      <th>Slice of Life</th>\n",
       "      <td>18</td>\n",
       "    </tr>\n",
       "    <tr>\n",
       "      <th>Supernatural</th>\n",
       "      <td>19</td>\n",
       "    </tr>\n",
       "    <tr>\n",
       "      <th>Romance</th>\n",
       "      <td>20</td>\n",
       "    </tr>\n",
       "    <tr>\n",
       "      <th>Vampire</th>\n",
       "      <td>21</td>\n",
       "    </tr>\n",
       "    <tr>\n",
       "      <th>Mecha</th>\n",
       "      <td>22</td>\n",
       "    </tr>\n",
       "    <tr>\n",
       "      <th>Sports</th>\n",
       "      <td>23</td>\n",
       "    </tr>\n",
       "    <tr>\n",
       "      <th>School</th>\n",
       "      <td>24</td>\n",
       "    </tr>\n",
       "    <tr>\n",
       "      <th>Space</th>\n",
       "      <td>25</td>\n",
       "    </tr>\n",
       "    <tr>\n",
       "      <th>Psychological</th>\n",
       "      <td>26</td>\n",
       "    </tr>\n",
       "    <tr>\n",
       "      <th>Josei</th>\n",
       "      <td>27</td>\n",
       "    </tr>\n",
       "    <tr>\n",
       "      <th>Music</th>\n",
       "      <td>28</td>\n",
       "    </tr>\n",
       "    <tr>\n",
       "      <th>Horror</th>\n",
       "      <td>29</td>\n",
       "    </tr>\n",
       "    <tr>\n",
       "      <th>Police</th>\n",
       "      <td>30</td>\n",
       "    </tr>\n",
       "    <tr>\n",
       "      <th>Shoujo</th>\n",
       "      <td>32</td>\n",
       "    </tr>\n",
       "    <tr>\n",
       "      <th>Martial Arts</th>\n",
       "      <td>33</td>\n",
       "    </tr>\n",
       "    <tr>\n",
       "      <th>Kids</th>\n",
       "      <td>36</td>\n",
       "    </tr>\n",
       "  </tbody>\n",
       "</table>\n",
       "</div>"
      ],
      "text/plain": [
       "               Unnamed: 0\n",
       "Genre Title              \n",
       "Null                    0\n",
       "Action                  1\n",
       "Military                2\n",
       "Adventure               3\n",
       "Comedy                  4\n",
       "Drama                   5\n",
       "Magic                   6\n",
       "Fantasy                 7\n",
       "Shounen                 8\n",
       "Thriller                9\n",
       "Sci-Fi                 10\n",
       "Historical             11\n",
       "Parody                 12\n",
       "Samurai                13\n",
       "Super Power            14\n",
       "Mystery                15\n",
       "Game                   16\n",
       "Seinen                 17\n",
       "Slice of Life          18\n",
       "Supernatural           19\n",
       "Romance                20\n",
       "Vampire                21\n",
       "Mecha                  22\n",
       "Sports                 23\n",
       "School                 24\n",
       "Space                  25\n",
       "Psychological          26\n",
       "Josei                  27\n",
       "Music                  28\n",
       "Horror                 29\n",
       "Police                 30\n",
       "Shoujo                 32\n",
       "Martial Arts           33\n",
       "Kids                   36"
      ]
     },
     "execution_count": 71,
     "metadata": {},
     "output_type": "execute_result"
    }
   ],
   "source": [
    "genres"
   ]
  },
  {
   "cell_type": "code",
   "execution_count": 72,
   "id": "579a2030",
   "metadata": {},
   "outputs": [
    {
     "name": "stdout",
     "output_type": "stream",
     "text": [
      "Enter your top preferred genre:action\n",
      "Enter your second top genre:comedy\n"
     ]
    }
   ],
   "source": [
    "in1 = input(\"Enter your top preferred genre:\")\n",
    "in2 = input(\"Enter your second top genre:\")"
   ]
  },
  {
   "cell_type": "code",
   "execution_count": 73,
   "id": "b64a9b2f",
   "metadata": {},
   "outputs": [
    {
     "name": "stdout",
     "output_type": "stream",
     "text": [
      "Gintama°\n"
     ]
    }
   ],
   "source": [
    "genre1 = in1.capitalize()\n",
    "genre2 = in2.capitalize()\n",
    "\n",
    "g1 = genres.index.get_loc(genre1)\n",
    "g2 = genres.index.get_loc(genre2)\n",
    "\n",
    "reco = None\n",
    "j = None\n",
    "\n",
    "for z in range(len(dataset)):\n",
    "    if (g1 == dataset.loc[z, \"genre_reference_1\"]) and (g2 == dataset.loc[z, \"genre_reference_2\"]):\n",
    "        if (reco is None or dataset.loc[z, \"Score\"] > dataset.loc[j, \"Score\"]) and dataset.loc[z, \"Anime Title\"] not in seen_shows:\n",
    "            reco = dataset.loc[z, \"Anime Title\"]\n",
    "            j = z\n",
    "            \n",
    "if reco is None:\n",
    "    for a in range(len(dataset)):\n",
    "        if (g2 == dataset.loc[z, \"genre_reference_1\"]) and (g1 == dataset.loc[z, \"genre_reference_2\"]):\n",
    "            if (reco is None or dataset.loc[a, \"Score\"] > dataset.loc[j, \"Score\"]) and dataset.loc[a, \"Anime Title\"] not in seen_shows:\n",
    "                reco = dataset.loc[z, \"Anime Title\"]\n",
    "                j = z\n",
    "\n",
    "if reco is None:\n",
    "    print(\"The combination of genres cannot be found. Here is a recommendation of a show from the two genres instead\")\n",
    "    rec1 = None\n",
    "    rec2 = None\n",
    "    c = None\n",
    "    d = None\n",
    "    for e in range(len(dataset)):\n",
    "        if (g1 == dataset.loc[e, \"genre_reference_1\"]):\n",
    "            if (rec1 is None or dataset.loc[e, \"Score\"] > dataset.loc[c, \"Score\"]) and dataset.loc[e, \"Anime Title\"] not in seen_shows:\n",
    "                rec1 = dataset.loc[e, \"Anime Title\"]\n",
    "                c = e\n",
    "        elif (g2 == dataset.loc[e, \"genre_reference_1\"]):\n",
    "            if (rec2 is None or dataset.loc[e, \"Score\"] > dataset.loc[d, \"Score\"]) and dataset.loc[e, \"Anime Title\"] not in seen_shows:\n",
    "                rec2 = dataset.loc[e, \"Anime Title\"]\n",
    "                d = e\n",
    "        \n",
    "\n",
    "if reco is not None:\n",
    "    seen_shows.append(reco)\n",
    "    print(reco)\n",
    "else:\n",
    "    seen_shows.append(rec1)\n",
    "    seen_shows.append(rec2)\n",
    "    print(rec1)\n",
    "    print(rec2)\n"
   ]
  },
  {
   "cell_type": "code",
   "execution_count": null,
   "id": "a9be34cf",
   "metadata": {},
   "outputs": [],
   "source": [
    "import numpy as np\n",
    "import pandas as pd\n",
    "import matplotlib.pyplot as plt\n",
    "import seaborn as sb\n",
    "\n",
    "dataset = pd.read_csv(r\"Datasets/cleaned_data.csv\")\n",
    "genres = pd.read_csv(r\"Datasets\\Genres\")\n",
    "\n",
    "def cap(word):\n",
    "    return word.capitalize()\n",
    "\n",
    "def find_item(dataset, search_string):\n",
    "    for index, item in enumerate(dataset):\n",
    "        if str(item) == search_string:\n",
    "            return index\n",
    "    return None\n",
    "\n",
    "genres.rename(columns={genres.columns[1]: 'Genre Title'}, inplace=True)\n",
    "\n",
    "genres.set_index('Genre Title', inplace=True)\n",
    "\n"
   ]
  }
 ],
 "metadata": {
  "kernelspec": {
   "display_name": "Python 3 (ipykernel)",
   "language": "python",
   "name": "python3"
  },
  "language_info": {
   "codemirror_mode": {
    "name": "ipython",
    "version": 3
   },
   "file_extension": ".py",
   "mimetype": "text/x-python",
   "name": "python",
   "nbconvert_exporter": "python",
   "pygments_lexer": "ipython3",
   "version": "3.9.13"
  }
 },
 "nbformat": 4,
 "nbformat_minor": 5
}
